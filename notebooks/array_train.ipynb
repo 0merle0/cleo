{
 "cells": [
  {
   "cell_type": "code",
   "execution_count": 2,
   "metadata": {},
   "outputs": [],
   "source": [
    "import sys, os"
   ]
  },
  {
   "cell_type": "code",
   "execution_count": 3,
   "metadata": {},
   "outputs": [],
   "source": [
    "env_cmd = \"source activate cleo\"\n",
    "script_path = \"/home/jgershon/git/cleo/train_surrogate.py\"\n",
    "\n",
    "run_prefix = \"super_esm_mpnn\"\n",
    "base_config = \"train_super_esm_mpnn_concat\"\n",
    "hidden_dims = [16,32,64]\n",
    "\n",
    "commands_list = []\n",
    "\n",
    "for hidden_dim in hidden_dims:\n",
    "    run_name = f\"{run_prefix}_hidden{hidden_dim}\"\n",
    "    cmd = f\"python {script_path} -cn {base_config} run_name={run_name} model.base_model.hidden_dim={hidden_dim}\"\n",
    "    commands_list.append(cmd)\n"
   ]
  },
  {
   "cell_type": "code",
   "execution_count": 4,
   "metadata": {},
   "outputs": [],
   "source": [
    "tasks_list = []\n",
    "for cmd in commands_list:\n",
    "    task = f\"{env_cmd}; {cmd}\"\n",
    "    tasks_list.append(task+\"\\n\")\n",
    "\n",
    "with open(\"/home/jgershon/git/cleo/tasks\", \"w\") as f:\n",
    "    f.writelines(tasks_list)"
   ]
  }
 ],
 "metadata": {
  "kernelspec": {
   "display_name": "cleo",
   "language": "python",
   "name": "python3"
  },
  "language_info": {
   "codemirror_mode": {
    "name": "ipython",
    "version": 3
   },
   "file_extension": ".py",
   "mimetype": "text/x-python",
   "name": "python",
   "nbconvert_exporter": "python",
   "pygments_lexer": "ipython3",
   "version": "3.9.20"
  }
 },
 "nbformat": 4,
 "nbformat_minor": 2
}
