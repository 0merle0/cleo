{
 "cells": [
  {
   "cell_type": "code",
   "execution_count": 18,
   "metadata": {},
   "outputs": [],
   "source": [
    "import sys, os\n",
    "import datetime\n"
   ]
  },
  {
   "cell_type": "markdown",
   "metadata": {},
   "source": [
    "### Thursday 241205. Fragments. Hidden dimensions sweep [1-4096]"
   ]
  },
  {
   "cell_type": "code",
   "execution_count": null,
   "metadata": {},
   "outputs": [],
   "source": [
    "env_cmd = \"source activate cleo\"\n",
    "script_name = 'train_surrogate.py'\n",
    "home_path = '/home/jq01/projects/active_learning/cleo'\n",
    "script_path = os.path.join(home_path, script_name)\n",
    "\n",
    "run_prefix = \"241205_super_fragment\"\n",
    "base_config = \"train_super_fragment\"\n",
    "hidden_dims = [1,2,4,8,16,32,64,128,256,512,1024,2048,4096]\n",
    "\n",
    "commands_list = []\n",
    "\n",
    "for hidden_dim in hidden_dims:\n",
    "    run_name = f\"{run_prefix}_hidden{hidden_dim}\"\n",
    "    cmd = f\"python {script_path} -cn {base_config} run_name={run_name} model.base_model.hidden_dim={hidden_dim}\"\n",
    "    commands_list.append(cmd)\n"
   ]
  },
  {
   "cell_type": "code",
   "execution_count": 23,
   "metadata": {},
   "outputs": [],
   "source": [
    "tasks_list = []\n",
    "for cmd in commands_list:\n",
    "    task = f\"{env_cmd}; cd {home_path}; {cmd}\"\n",
    "    tasks_list.append(task+\"\\n\")\n",
    "\n",
    "with open(f\"{home_path}/cmds/{run_prefix}_hidden_tasks\", \"w\") as f:\n",
    "    f.writelines(tasks_list)"
   ]
  },
  {
   "cell_type": "markdown",
   "metadata": {},
   "source": [
    "### Sunday 241208. Fragment. Batchsize sweep [1-64]"
   ]
  },
  {
   "cell_type": "code",
   "execution_count": 16,
   "metadata": {},
   "outputs": [],
   "source": [
    "env_cmd = \"source activate cleo\"\n",
    "script_name = 'train_surrogate.py'\n",
    "home_path = '/home/jq01/projects/active_learning/cleo'\n",
    "script_path = os.path.join(home_path, script_name)\n",
    "\n",
    "run_prefix = \"241208_batchsize_frag\"\n",
    "base_config = \"241208_train_batchsize_frag\"\n",
    "train_batch_size = [1,2,4,16,32,64]\n",
    "\n",
    "commands_list = []\n",
    "\n",
    "for bath_size in train_batch_size:\n",
    "    run_name = f\"{run_prefix}_batchsize{bath_size}\"\n",
    "    cmd = f\"python {script_path} -cn {base_config} run_name={run_name} data.train_batch_size={bath_size}\"\n",
    "    commands_list.append(cmd)\n"
   ]
  },
  {
   "cell_type": "code",
   "execution_count": 17,
   "metadata": {},
   "outputs": [],
   "source": [
    "tasks_list = []\n",
    "for cmd in commands_list:\n",
    "    task = f\"{env_cmd}; cd {home_path}; {cmd}\"\n",
    "    tasks_list.append(task+\"\\n\")\n",
    "\n",
    "with open(f\"{home_path}/cmds/{run_prefix}_tasks\", \"w\") as f:\n",
    "    f.writelines(tasks_list)"
   ]
  },
  {
   "cell_type": "markdown",
   "metadata": {},
   "source": [
    "### Sunday 241208 Fragments. Learning rate sweep [1e-1 - 1e-5]"
   ]
  },
  {
   "cell_type": "code",
   "execution_count": 20,
   "metadata": {},
   "outputs": [],
   "source": [
    "env_cmd = \"source activate cleo\"\n",
    "script_name = 'train_surrogate.py'\n",
    "home_path = '/home/jq01/projects/active_learning/cleo'\n",
    "script_path = os.path.join(home_path, script_name)\n",
    "\n",
    "run_prefix = \"241208_learningrate_frag\"\n",
    "base_config = \"241208_train_lr_frag\"\n",
    "learning_rate = [1e-5,1e-4,1e-3,1e-2,1e-1]\n",
    "\n",
    "commands_list = []\n",
    "\n",
    "for lr in learning_rate:\n",
    "    run_name = f\"{run_prefix}_learningrate{lr}\"\n",
    "    cmd = f\"python {script_path} -cn {base_config} run_name={run_name} model.lr={lr}\"\n",
    "    commands_list.append(cmd)\n"
   ]
  },
  {
   "cell_type": "code",
   "execution_count": 21,
   "metadata": {},
   "outputs": [],
   "source": [
    "tasks_list = []\n",
    "for cmd in commands_list:\n",
    "    task = f\"{env_cmd}; cd {home_path}; {cmd}\"\n",
    "    tasks_list.append(task+\"\\n\")\n",
    "\n",
    "with open(f\"{home_path}/cmds/{run_prefix}_tasks\", \"w\") as f:\n",
    "    f.writelines(tasks_list)"
   ]
  },
  {
   "cell_type": "markdown",
   "metadata": {},
   "source": [
    "### Monday 241209 Fragments. Learning rate constant 1e-4. Batch size sweep [1-64]"
   ]
  },
  {
   "cell_type": "code",
   "execution_count": 3,
   "metadata": {},
   "outputs": [],
   "source": [
    "env_cmd = \"source activate cleo\"\n",
    "script_name = 'train_surrogate.py'\n",
    "home_path = '/home/jq01/projects/active_learning/cleo'\n",
    "script_path = os.path.join(home_path, script_name)\n",
    "\n",
    "run_prefix = \"241209_batchsize_lr1e-4_frag\"\n",
    "base_config = \"241209_train_lr1e-4_batchsize_sweep\"\n",
    "train_batch_size = [1,2,4,16,32,64]\n",
    "\n",
    "commands_list = []\n",
    "\n",
    "for bath_size in train_batch_size:\n",
    "    run_name = f\"{run_prefix}_batchsize{bath_size}\"\n",
    "    cmd = f\"python {script_path} -cn {base_config} run_name={run_name} data.train_batch_size={bath_size}\"\n",
    "    commands_list.append(cmd)\n"
   ]
  },
  {
   "cell_type": "code",
   "execution_count": 4,
   "metadata": {},
   "outputs": [],
   "source": [
    "tasks_list = []\n",
    "for cmd in commands_list:\n",
    "    task = f\"{env_cmd}; cd {home_path}; {cmd}\"\n",
    "    tasks_list.append(task+\"\\n\")\n",
    "\n",
    "with open(f\"{home_path}/cmds/{run_prefix}_tasks\", \"w\") as f:\n",
    "    f.writelines(tasks_list)"
   ]
  },
  {
   "cell_type": "markdown",
   "metadata": {},
   "source": [
    "### Thursday 241212 Fragments. Learning rate: 1e-4, hidden dimension: 16, batch size: 16. Number of models sweep [1,5,10,20,40,80,160]"
   ]
  },
  {
   "cell_type": "code",
   "execution_count": 9,
   "metadata": {},
   "outputs": [],
   "source": [
    "env_cmd = \"source activate cleo\"\n",
    "script_name = 'train_surrogate.py'\n",
    "home_path = '/home/jq01/projects/active_learning/cleo'\n",
    "script_path = os.path.join(home_path, script_name)\n",
    "\n",
    "run_prefix = \"241212_model_sweep_frag\"\n",
    "base_config = \"241212_train_model_sweep_frag\"\n",
    "train_models = [1,5,10,20,40,80,160]\n",
    "\n",
    "commands_list = []\n",
    "\n",
    "for models in train_models:\n",
    "    run_name = f\"{run_prefix}_num_models_{models}\"\n",
    "    cmd = f\"python {script_path} -cn {base_config} run_name={run_name} model.num_models={models}\"\n",
    "    commands_list.append(cmd)\n"
   ]
  },
  {
   "cell_type": "code",
   "execution_count": 10,
   "metadata": {},
   "outputs": [],
   "source": [
    "tasks_list = []\n",
    "for cmd in commands_list:\n",
    "    task = f\"{env_cmd}; cd {home_path}; {cmd}\"\n",
    "    tasks_list.append(task+\"\\n\")\n",
    "\n",
    "with open(f\"{home_path}/cmds/{run_prefix}_tasks\", \"w\") as f:\n",
    "    f.writelines(tasks_list)"
   ]
  },
  {
   "cell_type": "markdown",
   "metadata": {},
   "source": [
    "### ESM embedding comparison training (ESM cambria and ESM 2)"
   ]
  },
  {
   "cell_type": "markdown",
   "metadata": {},
   "source": []
  },
  {
   "cell_type": "code",
   "execution_count": 15,
   "metadata": {},
   "outputs": [],
   "source": [
    "\n",
    "env_cmd = \"source activate /home/jq01/.conda/envs/cleo\"\n",
    "script_name = 'train_surrogate.py'\n",
    "home_path = '/home/jq01/git/cleo_jason_working_branch'\n",
    "\n",
    "now = datetime.datetime.now()   \n",
    "date_str = now.strftime(\"%y%m%d\")\n",
    "\n",
    "esm_model = ['/projects/ml/itopt/datasets/esm_embeddings','/projects/ml/itopt/datasets/esmc_600m_embeddings']\n",
    " \n",
    "sweep_var = esm_model  # this is the hyperparameter to sweep\n",
    "base_config = f\"{date_str}_train_super_esm_vs_esmc\"   # this is the yaml file name\n",
    "\n",
    "cmds_path = os.path.join(home_path, 'cmds')\n",
    "script_path = os.path.join(home_path, script_name)\n",
    "\n",
    "input_dim: 1280\n",
    "hidden_dim: 16\n",
    "kernel_size: 5\n",
    "\n",
    "input_dim: 1152\n",
    "hidden_dim: 32\n",
    "kernel_size: 162\n",
    "\n",
    "commands_list = []\n",
    "\n",
    "for sweep_content in sweep_var:\n",
    "    \n",
    "    if 'esm_embeddings' in sweep_content:\n",
    "        input_dim = 1280\n",
    "        hidden_dim = 16\n",
    "        kernel_size = 5\n",
    "    elif 'esmc_600m_embeddings' in sweep_content:\n",
    "        input_dim = 1152\n",
    "        hidden_dim = 16\n",
    "        kernel_size = 5\n",
    "\n",
    "    run_name = f\"{base_config}_model_{sweep_content.split('/')[-1]}\"\n",
    "    cmd = f\"python {script_path} -cn {base_config} run_name={run_name} data.dataset_cfg.path_to_embeddings={sweep_content} model.base_model.input_dim={input_dim} model.base_model.hidden_dim={hidden_dim} model.base_model.kernel_size={kernel_size}\"\n",
    "    commands_list.append(cmd)"
   ]
  },
  {
   "cell_type": "code",
   "execution_count": 16,
   "metadata": {},
   "outputs": [
    {
     "data": {
      "text/plain": [
       "['source activate /home/jq01/.conda/envs/cleo; cd /home/jq01/git/cleo_jason_working_branch; python /home/jq01/git/cleo_jason_working_branch/train_surrogate.py -cn 241216_train_super_esm_vs_esmc run_name=241216_train_super_esm_vs_esmc_model_esm_embeddings data.dataset_cfg.path_to_embeddings=/projects/ml/itopt/datasets/esm_embeddings model.base_model.input_dim=1280 model.base_model.hidden_dim=16 model.base_model.kernel_size=5\\n',\n",
       " 'source activate /home/jq01/.conda/envs/cleo; cd /home/jq01/git/cleo_jason_working_branch; python /home/jq01/git/cleo_jason_working_branch/train_surrogate.py -cn 241216_train_super_esm_vs_esmc run_name=241216_train_super_esm_vs_esmc_model_esmc_600m_embeddings data.dataset_cfg.path_to_embeddings=/projects/ml/itopt/datasets/esmc_600m_embeddings model.base_model.input_dim=1152 model.base_model.hidden_dim=16 model.base_model.kernel_size=5\\n']"
      ]
     },
     "execution_count": 16,
     "metadata": {},
     "output_type": "execute_result"
    }
   ],
   "source": [
    "tasks_list = []\n",
    "for cmd in commands_list:\n",
    "    task = f\"{env_cmd}; cd {home_path}; {cmd}\"\n",
    "    tasks_list.append(task+\"\\n\")\n",
    "\n",
    "with open(f\"{cmds_path}/{base_config}_tasks\", \"w\") as f:\n",
    "    f.writelines(tasks_list)\n",
    "\n",
    "tasks_list"
   ]
  },
  {
   "cell_type": "code",
   "execution_count": 17,
   "metadata": {
    "vscode": {
     "languageId": "shellscript"
    }
   },
   "outputs": [
    {
     "name": "stdout",
     "output_type": "stream",
     "text": [
      "Submit scriptt: \n",
      "sbatch -a 1-$(cat /home/jq01/git/cleo_jason_working_branch/cmds/241216_train_super_esm_vs_esmc_tasks|wc -l) /home/jq01/git/cleo_jason_working_branch/submit/241216_train_super_esm_vs_esmc_array.sh\n"
     ]
    }
   ],
   "source": [
    "submit_script_content = f\"\"\"#!/bin/bash\n",
    "#SBATCH -p gpu\n",
    "#SBATCH --mem=8g\n",
    "#SBATCH --gres=gpu:a4000:1\n",
    "#SBATCH -c 1\n",
    "#SBATCH -o /home/jq01/git/cleo_jason_working_branch/logs/ajob_%j_%a.out\n",
    "#SBATCH -J {base_config}\n",
    "#SBATCH -t 10:00:00\n",
    "\n",
    "# get line number ${{SLURM_ARRAY_TASK_ID}} from tasks file\n",
    "CMD=$(sed -n \"${{SLURM_ARRAY_TASK_ID}}p\" {cmds_path}/{base_config}_tasks)\n",
    "# tell bash to run $CMD\n",
    "echo \"${{CMD}}\" | bash\n",
    "\"\"\"\n",
    "\n",
    "submit_script_path = os.path.join(home_path, 'submit', f'{base_config}_array.sh')\n",
    "\n",
    "with open(submit_script_path, 'w') as f:\n",
    "    f.write(submit_script_content)\n",
    "\n",
    "print(f\"Submit scriptt: \\nsbatch -a 1-$(cat {cmds_path}/{base_config}_tasks|wc -l) {submit_script_path}\")\n",
    "\n"
   ]
  },
  {
   "cell_type": "code",
   "execution_count": null,
   "metadata": {
    "vscode": {
     "languageId": "shellscript"
    }
   },
   "outputs": [],
   "source": []
  },
  {
   "cell_type": "markdown",
   "metadata": {},
   "source": [
    "### 241216: Fragment training 5 sequential training runs. \n",
    "#### hidden 16, lr 1-e4, bathsize: 64, epoch: 500"
   ]
  },
  {
   "cell_type": "code",
   "execution_count": 18,
   "metadata": {
    "vscode": {
     "languageId": "shellscript"
    }
   },
   "outputs": [
    {
     "data": {
      "text/plain": [
       "['source activate /home/jq01/.conda/envs/cleo; cd /home/jq01/git/cleo_jason_working_branch; python /home/jq01/git/cleo_jason_working_branch/train_surrogate.py -cn 241216_train_final_fragment run_name=241216_train_final_fragment_run1\\n',\n",
       " 'source activate /home/jq01/.conda/envs/cleo; cd /home/jq01/git/cleo_jason_working_branch; python /home/jq01/git/cleo_jason_working_branch/train_surrogate.py -cn 241216_train_final_fragment run_name=241216_train_final_fragment_run2\\n',\n",
       " 'source activate /home/jq01/.conda/envs/cleo; cd /home/jq01/git/cleo_jason_working_branch; python /home/jq01/git/cleo_jason_working_branch/train_surrogate.py -cn 241216_train_final_fragment run_name=241216_train_final_fragment_run3\\n',\n",
       " 'source activate /home/jq01/.conda/envs/cleo; cd /home/jq01/git/cleo_jason_working_branch; python /home/jq01/git/cleo_jason_working_branch/train_surrogate.py -cn 241216_train_final_fragment run_name=241216_train_final_fragment_run4\\n',\n",
       " 'source activate /home/jq01/.conda/envs/cleo; cd /home/jq01/git/cleo_jason_working_branch; python /home/jq01/git/cleo_jason_working_branch/train_surrogate.py -cn 241216_train_final_fragment run_name=241216_train_final_fragment_run5\\n']"
      ]
     },
     "execution_count": 18,
     "metadata": {},
     "output_type": "execute_result"
    }
   ],
   "source": [
    "\n",
    "env_cmd = \"source activate /home/jq01/.conda/envs/cleo\"\n",
    "script_name = 'train_surrogate.py'\n",
    "home_path = '/home/jq01/git/cleo_jason_working_branch'\n",
    "\n",
    "now = datetime.datetime.now()   \n",
    "date_str = now.strftime(\"%y%m%d\")\n",
    "\n",
    "training_runs = [1,2,3,4,5]\n",
    "sweep_var = training_runs  # this is the hyperparameter to sweep\n",
    "base_config = f\"{date_str}_train_final_fragment\"   # this is the yaml file name\n",
    "\n",
    "cmds_path = os.path.join(home_path, 'cmds')\n",
    "script_path = os.path.join(home_path, script_name)\n",
    "\n",
    "commands_list = []\n",
    "\n",
    "for sweep_content in sweep_var:\n",
    "    run_name = f\"{base_config}_run{sweep_content}\"\n",
    "    cmd = f\"python {script_path} -cn {base_config} run_name={run_name}\"\n",
    "    commands_list.append(cmd)\n",
    "\n",
    "tasks_list = []\n",
    "for cmd in commands_list:\n",
    "    task = f\"{env_cmd}; cd {home_path}; {cmd}\"\n",
    "    tasks_list.append(task+\"\\n\")\n",
    "\n",
    "with open(f\"{cmds_path}/{base_config}_tasks\", \"w\") as f:\n",
    "    f.writelines(tasks_list)\n",
    "\n",
    "tasks_list"
   ]
  },
  {
   "cell_type": "code",
   "execution_count": 19,
   "metadata": {
    "vscode": {
     "languageId": "shellscript"
    }
   },
   "outputs": [
    {
     "name": "stdout",
     "output_type": "stream",
     "text": [
      "Submit scriptt: \n",
      "sbatch -a 1-$(cat /home/jq01/git/cleo_jason_working_branch/cmds/241216_train_final_fragment_tasks|wc -l) /home/jq01/git/cleo_jason_working_branch/submit/241216_train_final_fragment_array.sh\n"
     ]
    }
   ],
   "source": [
    "submit_script_content = f\"\"\"#!/bin/bash\n",
    "#SBATCH -p gpu\n",
    "#SBATCH --mem=8g\n",
    "#SBATCH --gres=gpu:a4000:1\n",
    "#SBATCH -c 1\n",
    "#SBATCH -o /home/jq01/git/cleo_jason_working_branch/logs/ajob_%j_%a.out\n",
    "#SBATCH -J {base_config}\n",
    "#SBATCH -t 10:00:00\n",
    "\n",
    "# get line number ${{SLURM_ARRAY_TASK_ID}} from tasks file\n",
    "CMD=$(sed -n \"${{SLURM_ARRAY_TASK_ID}}p\" {cmds_path}/{base_config}_tasks)\n",
    "# tell bash to run $CMD\n",
    "echo \"${{CMD}}\" | bash\n",
    "\"\"\"\n",
    "\n",
    "submit_script_path = os.path.join(home_path, 'submit', f'{base_config}_array.sh')\n",
    "\n",
    "with open(submit_script_path, 'w') as f:\n",
    "    f.write(submit_script_content)\n",
    "\n",
    "print(f\"Submit scriptt: \\nsbatch -a 1-$(cat {cmds_path}/{base_config}_tasks|wc -l) {submit_script_path}\")\n",
    "\n"
   ]
  },
  {
   "cell_type": "code",
   "execution_count": null,
   "metadata": {
    "vscode": {
     "languageId": "shellscript"
    }
   },
   "outputs": [],
   "source": []
  },
  {
   "cell_type": "markdown",
   "metadata": {},
   "source": [
    "### 241216: Sequencing training 5 sequential training runs. \n",
    "### hidden 16, lr 1-e4, bathsize: 64, epoch: 500"
   ]
  },
  {
   "cell_type": "code",
   "execution_count": 3,
   "metadata": {
    "vscode": {
     "languageId": "shellscript"
    }
   },
   "outputs": [
    {
     "data": {
      "text/plain": [
       "['source activate /home/jq01/.conda/envs/cleo; cd /home/jq01/git/cleo_jason_working_branch; python /home/jq01/git/cleo_jason_working_branch/train_surrogate.py -cn 241217_train_final_sequence run_name=241217_train_final_sequence_run1\\n',\n",
       " 'source activate /home/jq01/.conda/envs/cleo; cd /home/jq01/git/cleo_jason_working_branch; python /home/jq01/git/cleo_jason_working_branch/train_surrogate.py -cn 241217_train_final_sequence run_name=241217_train_final_sequence_run2\\n',\n",
       " 'source activate /home/jq01/.conda/envs/cleo; cd /home/jq01/git/cleo_jason_working_branch; python /home/jq01/git/cleo_jason_working_branch/train_surrogate.py -cn 241217_train_final_sequence run_name=241217_train_final_sequence_run3\\n',\n",
       " 'source activate /home/jq01/.conda/envs/cleo; cd /home/jq01/git/cleo_jason_working_branch; python /home/jq01/git/cleo_jason_working_branch/train_surrogate.py -cn 241217_train_final_sequence run_name=241217_train_final_sequence_run4\\n',\n",
       " 'source activate /home/jq01/.conda/envs/cleo; cd /home/jq01/git/cleo_jason_working_branch; python /home/jq01/git/cleo_jason_working_branch/train_surrogate.py -cn 241217_train_final_sequence run_name=241217_train_final_sequence_run5\\n']"
      ]
     },
     "execution_count": 3,
     "metadata": {},
     "output_type": "execute_result"
    }
   ],
   "source": [
    "\n",
    "env_cmd = \"source activate /home/jq01/.conda/envs/cleo\"\n",
    "script_name = 'train_surrogate.py'\n",
    "home_path = '/home/jq01/git/cleo_jason_working_branch'\n",
    "\n",
    "now = datetime.datetime.now()   \n",
    "date_str = now.strftime(\"%y%m%d\")\n",
    "\n",
    "training_runs = [1,2,3,4,5]\n",
    "sweep_var = training_runs  # this is the hyperparameter to sweep\n",
    "base_config = f\"{date_str}_train_final_sequence\"   # this is the yaml file name\n",
    "\n",
    "cmds_path = os.path.join(home_path, 'cmds')\n",
    "script_path = os.path.join(home_path, script_name)\n",
    "\n",
    "commands_list = []\n",
    "\n",
    "for sweep_content in sweep_var:\n",
    "    run_name = f\"{base_config}_run{sweep_content}\"\n",
    "    cmd = f\"python {script_path} -cn {base_config} run_name={run_name}\"\n",
    "    commands_list.append(cmd)\n",
    "\n",
    "tasks_list = []\n",
    "for cmd in commands_list:\n",
    "    task = f\"{env_cmd}; cd {home_path}; {cmd}\"\n",
    "    tasks_list.append(task+\"\\n\")\n",
    "\n",
    "with open(f\"{cmds_path}/{base_config}_tasks\", \"w\") as f:\n",
    "    f.writelines(tasks_list)\n",
    "\n",
    "tasks_list"
   ]
  },
  {
   "cell_type": "code",
   "execution_count": 4,
   "metadata": {
    "vscode": {
     "languageId": "shellscript"
    }
   },
   "outputs": [
    {
     "name": "stdout",
     "output_type": "stream",
     "text": [
      "Submit scriptt: \n",
      "sbatch -a 1-$(cat /home/jq01/git/cleo_jason_working_branch/cmds/241217_train_final_sequence_tasks|wc -l) /home/jq01/git/cleo_jason_working_branch/submit/241217_train_final_sequence_array.sh\n"
     ]
    }
   ],
   "source": [
    "submit_script_content = f\"\"\"#!/bin/bash\n",
    "#SBATCH -p gpu\n",
    "#SBATCH --mem=8g\n",
    "#SBATCH --gres=gpu:a4000:1\n",
    "#SBATCH -c 1\n",
    "#SBATCH -o /home/jq01/git/cleo_jason_working_branch/logs/ajob_%j_%a.out\n",
    "#SBATCH -J {base_config}\n",
    "#SBATCH -t 10:00:00\n",
    "\n",
    "# get line number ${{SLURM_ARRAY_TASK_ID}} from tasks file\n",
    "CMD=$(sed -n \"${{SLURM_ARRAY_TASK_ID}}p\" {cmds_path}/{base_config}_tasks)\n",
    "# tell bash to run $CMD\n",
    "echo \"${{CMD}}\" | bash\n",
    "\"\"\"\n",
    "\n",
    "submit_script_path = os.path.join(home_path, 'submit', f'{base_config}_array.sh')\n",
    "\n",
    "with open(submit_script_path, 'w') as f:\n",
    "    f.write(submit_script_content)\n",
    "\n",
    "print(f\"Submit scriptt: \\nsbatch -a 1-$(cat {cmds_path}/{base_config}_tasks|wc -l) {submit_script_path}\")"
   ]
  },
  {
   "cell_type": "code",
   "execution_count": null,
   "metadata": {},
   "outputs": [],
   "source": []
  },
  {
   "cell_type": "markdown",
   "metadata": {},
   "source": [
    "### 241217: FRAGMENT training 5 sequential training runs WITHOUT VALIDATION\n",
    " \n",
    "#### hidden 16, lr 1-e4, bathsize: 64, epoch: 500"
   ]
  },
  {
   "cell_type": "code",
   "execution_count": 14,
   "metadata": {},
   "outputs": [
    {
     "data": {
      "text/plain": [
       "['source activate /home/jq01/.conda/envs/cleo; cd /home/jq01/git/cleo_jason_working_branch; python /home/jq01/git/cleo_jason_working_branch/train_surrogate.py -cn 241217_train_final_fragment_wo_val run_name=241217_train_final_fragment_wo_val_run1\\n',\n",
       " 'source activate /home/jq01/.conda/envs/cleo; cd /home/jq01/git/cleo_jason_working_branch; python /home/jq01/git/cleo_jason_working_branch/train_surrogate.py -cn 241217_train_final_fragment_wo_val run_name=241217_train_final_fragment_wo_val_run2\\n',\n",
       " 'source activate /home/jq01/.conda/envs/cleo; cd /home/jq01/git/cleo_jason_working_branch; python /home/jq01/git/cleo_jason_working_branch/train_surrogate.py -cn 241217_train_final_fragment_wo_val run_name=241217_train_final_fragment_wo_val_run3\\n',\n",
       " 'source activate /home/jq01/.conda/envs/cleo; cd /home/jq01/git/cleo_jason_working_branch; python /home/jq01/git/cleo_jason_working_branch/train_surrogate.py -cn 241217_train_final_fragment_wo_val run_name=241217_train_final_fragment_wo_val_run4\\n',\n",
       " 'source activate /home/jq01/.conda/envs/cleo; cd /home/jq01/git/cleo_jason_working_branch; python /home/jq01/git/cleo_jason_working_branch/train_surrogate.py -cn 241217_train_final_fragment_wo_val run_name=241217_train_final_fragment_wo_val_run5\\n']"
      ]
     },
     "execution_count": 14,
     "metadata": {},
     "output_type": "execute_result"
    }
   ],
   "source": [
    "env_cmd = \"source activate /home/jq01/.conda/envs/cleo\"\n",
    "script_name = 'train_surrogate.py'\n",
    "home_path = '/home/jq01/git/cleo_jason_working_branch'\n",
    "\n",
    "now = datetime.datetime.now()   \n",
    "date_str = now.strftime(\"%y%m%d\")\n",
    "\n",
    "training_runs = [1,2,3,4,5]\n",
    "sweep_var = training_runs  # this is the hyperparameter to sweep\n",
    "base_config = f\"{date_str}_train_final_fragment_wo_val\"   # this is the yaml file name\n",
    "\n",
    "\n",
    "cmds_path = os.path.join(home_path, 'cmds')\n",
    "script_path = os.path.join(home_path, script_name)\n",
    "\n",
    "commands_list = []\n",
    "\n",
    "for sweep_content in sweep_var:\n",
    "    run_name = f\"{base_config}_run{sweep_content}\"\n",
    "    cmd = f\"python {script_path} -cn {base_config} run_name={run_name}\"\n",
    "    commands_list.append(cmd)\n",
    "\n",
    "tasks_list = []\n",
    "for cmd in commands_list:\n",
    "    task = f\"{env_cmd}; cd {home_path}; {cmd}\"\n",
    "    tasks_list.append(task+\"\\n\")\n",
    "\n",
    "with open(f\"{cmds_path}/{base_config}_tasks\", \"w\") as f:\n",
    "    f.writelines(tasks_list)\n",
    "\n",
    "tasks_list"
   ]
  },
  {
   "cell_type": "code",
   "execution_count": 15,
   "metadata": {},
   "outputs": [
    {
     "name": "stdout",
     "output_type": "stream",
     "text": [
      "Submit scriptt: \n",
      "sbatch -a 1-$(cat /home/jq01/git/cleo_jason_working_branch/cmds/241217_train_final_fragment_wo_val_tasks|wc -l) /home/jq01/git/cleo_jason_working_branch/submit/241217_train_final_fragment_wo_val_array.sh\n"
     ]
    }
   ],
   "source": [
    "submit_script_content = f\"\"\"#!/bin/bash\n",
    "#SBATCH -p gpu\n",
    "#SBATCH --mem=8g\n",
    "#SBATCH --gres=gpu:a6000:1\n",
    "#SBATCH -c 1\n",
    "#SBATCH -o /home/jq01/git/cleo_jason_working_branch/logs/ajob_%j_%a.out\n",
    "#SBATCH -J {base_config}\n",
    "#SBATCH -t 10:00:00\n",
    "\n",
    "# get line number ${{SLURM_ARRAY_TASK_ID}} from tasks file\n",
    "CMD=$(sed -n \"${{SLURM_ARRAY_TASK_ID}}p\" {cmds_path}/{base_config}_tasks)\n",
    "# tell bash to run $CMD\n",
    "echo \"${{CMD}}\" | bash\n",
    "\"\"\"\n",
    "\n",
    "submit_script_path = os.path.join(home_path, 'submit', f'{base_config}_array.sh')\n",
    "\n",
    "with open(submit_script_path, 'w') as f:\n",
    "    f.write(submit_script_content)\n",
    "\n",
    "print(f\"Submit scriptt: \\nsbatch -a 1-$(cat {cmds_path}/{base_config}_tasks|wc -l) {submit_script_path}\")\n",
    "\n"
   ]
  },
  {
   "cell_type": "markdown",
   "metadata": {},
   "source": [
    "### 241216: SEQUENCE training 5 sequential training runs WITHOUT VALIDATION\n",
    " \n",
    "#### hidden 16, lr 1-e4, bathsize: 64, epoch: 500"
   ]
  },
  {
   "cell_type": "code",
   "execution_count": 19,
   "metadata": {},
   "outputs": [
    {
     "data": {
      "text/plain": [
       "['source activate /home/jq01/.conda/envs/cleo; cd /home/jq01/git/cleo_jason_working_branch; python /home/jq01/git/cleo_jason_working_branch/train_surrogate.py -cn 241217_train_final_sequence_wo_val run_name=241217_train_final_sequence_wo_val_run1\\n',\n",
       " 'source activate /home/jq01/.conda/envs/cleo; cd /home/jq01/git/cleo_jason_working_branch; python /home/jq01/git/cleo_jason_working_branch/train_surrogate.py -cn 241217_train_final_sequence_wo_val run_name=241217_train_final_sequence_wo_val_run2\\n',\n",
       " 'source activate /home/jq01/.conda/envs/cleo; cd /home/jq01/git/cleo_jason_working_branch; python /home/jq01/git/cleo_jason_working_branch/train_surrogate.py -cn 241217_train_final_sequence_wo_val run_name=241217_train_final_sequence_wo_val_run3\\n',\n",
       " 'source activate /home/jq01/.conda/envs/cleo; cd /home/jq01/git/cleo_jason_working_branch; python /home/jq01/git/cleo_jason_working_branch/train_surrogate.py -cn 241217_train_final_sequence_wo_val run_name=241217_train_final_sequence_wo_val_run4\\n',\n",
       " 'source activate /home/jq01/.conda/envs/cleo; cd /home/jq01/git/cleo_jason_working_branch; python /home/jq01/git/cleo_jason_working_branch/train_surrogate.py -cn 241217_train_final_sequence_wo_val run_name=241217_train_final_sequence_wo_val_run5\\n']"
      ]
     },
     "execution_count": 19,
     "metadata": {},
     "output_type": "execute_result"
    }
   ],
   "source": [
    "\n",
    "env_cmd = \"source activate /home/jq01/.conda/envs/cleo\"\n",
    "script_name = 'train_surrogate.py'\n",
    "home_path = '/home/jq01/git/cleo_jason_working_branch'\n",
    "\n",
    "now = datetime.datetime.now()   \n",
    "date_str = now.strftime(\"%y%m%d\")\n",
    "\n",
    "training_runs = [1,2,3,4,5]\n",
    "sweep_var = training_runs  # this is the hyperparameter to sweep\n",
    "base_config = f\"{date_str}_train_final_sequence_wo_val\"   # this is the yaml file name\n",
    "\n",
    "cmds_path = os.path.join(home_path, 'cmds')\n",
    "script_path = os.path.join(home_path, script_name)\n",
    "\n",
    "commands_list = []\n",
    "\n",
    "for sweep_content in sweep_var:\n",
    "    run_name = f\"{base_config}_run{sweep_content}\"\n",
    "    cmd = f\"python {script_path} -cn {base_config} run_name={run_name}\"\n",
    "    commands_list.append(cmd)\n",
    "\n",
    "tasks_list = []\n",
    "for cmd in commands_list:\n",
    "    task = f\"{env_cmd}; cd {home_path}; {cmd}\"\n",
    "    tasks_list.append(task+\"\\n\")\n",
    "\n",
    "with open(f\"{cmds_path}/{base_config}_tasks\", \"w\") as f:\n",
    "    f.writelines(tasks_list)\n",
    "\n",
    "tasks_list"
   ]
  },
  {
   "cell_type": "code",
   "execution_count": 20,
   "metadata": {},
   "outputs": [
    {
     "name": "stdout",
     "output_type": "stream",
     "text": [
      "Submit scriptt: \n",
      "sbatch -a 1-$(cat /home/jq01/git/cleo_jason_working_branch/cmds/241217_train_final_sequence_wo_val_tasks|wc -l) /home/jq01/git/cleo_jason_working_branch/submit/241217_train_final_sequence_wo_val_array.sh\n"
     ]
    }
   ],
   "source": [
    "submit_script_content = f\"\"\"#!/bin/bash\n",
    "#SBATCH -p gpu\n",
    "#SBATCH --mem=8g\n",
    "#SBATCH --gres=gpu:a6000:1\n",
    "#SBATCH -c 1\n",
    "#SBATCH -o /home/jq01/git/cleo_jason_working_branch/logs/ajob_%j_%a.out\n",
    "#SBATCH -J {base_config}\n",
    "#SBATCH -t 10:00:00\n",
    "\n",
    "# get line number ${{SLURM_ARRAY_TASK_ID}} from tasks file\n",
    "CMD=$(sed -n \"${{SLURM_ARRAY_TASK_ID}}p\" {cmds_path}/{base_config}_tasks)\n",
    "# tell bash to run $CMD\n",
    "echo \"${{CMD}}\" | bash\n",
    "\"\"\"\n",
    "\n",
    "submit_script_path = os.path.join(home_path, 'submit', f'{base_config}_array.sh')\n",
    "\n",
    "with open(submit_script_path, 'w') as f:\n",
    "    f.write(submit_script_content)\n",
    "\n",
    "print(f\"Submit scriptt: \\nsbatch -a 1-$(cat {cmds_path}/{base_config}_tasks|wc -l) {submit_script_path}\")"
   ]
  },
  {
   "cell_type": "code",
   "execution_count": null,
   "metadata": {},
   "outputs": [],
   "source": []
  },
  {
   "cell_type": "code",
   "execution_count": null,
   "metadata": {},
   "outputs": [],
   "source": []
  }
 ],
 "metadata": {
  "kernelspec": {
   "display_name": "cleo",
   "language": "python",
   "name": "python3"
  },
  "language_info": {
   "codemirror_mode": {
    "name": "ipython",
    "version": 3
   },
   "file_extension": ".py",
   "mimetype": "text/x-python",
   "name": "python",
   "nbconvert_exporter": "python",
   "pygments_lexer": "ipython3",
   "version": "3.9.20"
  }
 },
 "nbformat": 4,
 "nbformat_minor": 2
}
