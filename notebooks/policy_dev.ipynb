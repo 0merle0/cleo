{
 "cells": [
  {
   "cell_type": "code",
   "execution_count": 5,
   "metadata": {},
   "outputs": [
    {
     "ename": "ModuleNotFoundError",
     "evalue": "No module named 'policy_utils'",
     "output_type": "error",
     "traceback": [
      "\u001b[0;31m---------------------------------------------------------------------------\u001b[0m",
      "\u001b[0;31mModuleNotFoundError\u001b[0m                       Traceback (most recent call last)",
      "Cell \u001b[0;32mIn[5], line 8\u001b[0m\n\u001b[1;32m      4\u001b[0m \u001b[38;5;28;01mimport\u001b[39;00m \u001b[38;5;21;01mnumpy\u001b[39;00m \u001b[38;5;28;01mas\u001b[39;00m \u001b[38;5;21;01mnp\u001b[39;00m\n\u001b[1;32m      7\u001b[0m sys\u001b[38;5;241m.\u001b[39mpath\u001b[38;5;241m.\u001b[39mappend(\u001b[38;5;124m\"\u001b[39m\u001b[38;5;124m/home/jgershon/projects/itopt/mpnn_policy\u001b[39m\u001b[38;5;124m\"\u001b[39m)\n\u001b[0;32m----> 8\u001b[0m \u001b[38;5;28;01mfrom\u001b[39;00m \u001b[38;5;21;01mpolicy_utils\u001b[39;00m \u001b[38;5;28;01mimport\u001b[39;00m PolicyMPNN, alphabet\n\u001b[1;32m     11\u001b[0m test_pdb \u001b[38;5;241m=\u001b[39m \u001b[38;5;124m\"\u001b[39m\u001b[38;5;124m/home/jgershon/projects/itopt/declan/TS1_trp_6_conformers_0008_000_10-atomized-bb-False_4_9_MPNN.pdb\u001b[39m\u001b[38;5;124m\"\u001b[39m\n\u001b[1;32m     14\u001b[0m config \u001b[38;5;241m=\u001b[39m {\n\u001b[1;32m     15\u001b[0m     \u001b[38;5;124m\"\u001b[39m\u001b[38;5;124mmodel_type\u001b[39m\u001b[38;5;124m\"\u001b[39m: \u001b[38;5;124m\"\u001b[39m\u001b[38;5;124mprotein_mpnn\u001b[39m\u001b[38;5;124m\"\u001b[39m,\n\u001b[1;32m     16\u001b[0m     \u001b[38;5;124m\"\u001b[39m\u001b[38;5;124mpdb\u001b[39m\u001b[38;5;124m\"\u001b[39m: test_pdb,\n\u001b[0;32m   (...)\u001b[0m\n\u001b[1;32m     21\u001b[0m     \u001b[38;5;124m\"\u001b[39m\u001b[38;5;124mfixed_residues\u001b[39m\u001b[38;5;124m\"\u001b[39m: \u001b[38;5;124m\"\u001b[39m\u001b[38;5;124mA29 A30 A31 A32 A60 A61 A62 A63 A100 A101 A102 A103\u001b[39m\u001b[38;5;124m\"\u001b[39m,\n\u001b[1;32m     22\u001b[0m }\n",
      "\u001b[0;31mModuleNotFoundError\u001b[0m: No module named 'policy_utils'"
     ]
    }
   ],
   "source": [
    "import sys, os\n",
    "from omegaconf import OmegaConf\n",
    "import torch\n",
    "import numpy as np\n",
    "\n",
    "\n",
    "sys.path.append(\"/home/jgershon/git/cleo\")\n",
    "from policy_utils import PolicyMPNN, alphabet\n",
    "\n",
    "\n",
    "test_pdb = \"/home/jgershon/projects/itopt/declan/TS1_trp_6_conformers_0008_000_10-atomized-bb-False_4_9_MPNN.pdb\"\n",
    "\n",
    "\n",
    "config = {\n",
    "    \"model_type\": \"protein_mpnn\",\n",
    "    \"pdb\": test_pdb,\n",
    "    \"batch_size\": 6,\n",
    "    \"temperature\": 1.0,\n",
    "    \"omit_AA\": \"CX\",\n",
    "    \"lr\": 1e-4,\n",
    "    \"fixed_residues\": \"A29 A30 A31 A32 A60 A61 A62 A63 A100 A101 A102 A103\",\n",
    "}\n",
    "\n",
    "config = OmegaConf.create(config)\n",
    "\n",
    "policy_mpnn = PolicyMPNN(config)\n"
   ]
  },
  {
   "cell_type": "code",
   "execution_count": 38,
   "metadata": {},
   "outputs": [
    {
     "name": "stdout",
     "output_type": "stream",
     "text": [
      "Step 0: Reward = 6.33\n",
      "Step 10: Reward = 10.00\n",
      "Step 20: Reward = 10.33\n",
      "Step 30: Reward = 13.17\n",
      "Step 40: Reward = 17.17\n",
      "Step 50: Reward = 19.33\n",
      "Step 60: Reward = 28.67\n",
      "Step 70: Reward = 28.50\n",
      "Step 80: Reward = 30.17\n",
      "Step 90: Reward = 32.17\n"
     ]
    }
   ],
   "source": [
    "\n",
    "# get features\n",
    "feature_dict = policy_mpnn.featurize_pdb(config.pdb)\n",
    "\n",
    "reward_history = [0]\n",
    "\n",
    "# define dummy reward\n",
    "aa_of_interest = \"E\"\n",
    "aa_index_of_interest = alphabet.index(aa_of_interest)\n",
    "\n",
    "# encode to get initial state\n",
    "h_V, h_E, E_idx = policy_mpnn.encode_initial_state(feature_dict)\n",
    "\n",
    "N_train = 100\n",
    "\n",
    "for i in range(N_train):\n",
    "\n",
    "    # clone initial state features\n",
    "    h_V_in = h_V.clone()\n",
    "    h_E_in = h_E.clone()\n",
    "    E_idx_in = E_idx.clone()\n",
    "\n",
    "    # set requires grad == True\n",
    "    h_V_in.requires_grad = True\n",
    "    h_E_in.requires_grad = True\n",
    " \n",
    "    # run the policy\n",
    "    out = policy_mpnn.rollout(feature_dict, h_V_in, h_E_in, E_idx_in)\n",
    "\n",
    "    # mask for what was actually decoded in the sequence\n",
    "    seq_mask = torch.nn.functional.one_hot(out[\"S\"], num_classes=len(alphabet)).float()\n",
    "\n",
    "    # apply mask and take sum over each seq in the batch\n",
    "    batched_log_probs = (out[\"log_probs\"] * seq_mask).sum(dim=(-1,-2))\n",
    "\n",
    "    batched_reward = (out[\"S\"] == aa_index_of_interest).sum(dim=-1).float()\n",
    "    \n",
    "    # get baseline first\n",
    "    baseline = np.mean(reward_history).item()\n",
    "\n",
    "    # store reward history\n",
    "    reward_history.append(batched_reward.mean().item())\n",
    "\n",
    "    # baseline subtracted reward\n",
    "    baseline_subtracted_reward = batched_reward - baseline\n",
    "    # baseline_subtracted_reward = torch.clamp(batched_reward-baseline, min=0)\n",
    "    \n",
    "    # compute loss\n",
    "    loss = -(batched_log_probs * baseline_subtracted_reward).mean()\n",
    "\n",
    "    # optimizer update\n",
    "    policy_mpnn.optimizer.zero_grad()\n",
    "    loss.backward()\n",
    "    policy_mpnn.optimizer.step()\n",
    "\n",
    "    if i%10 == 0:\n",
    "        print(f\"Step {i}: Reward = {batched_reward.mean().item():.2f}\")"
   ]
  },
  {
   "cell_type": "code",
   "execution_count": 39,
   "metadata": {},
   "outputs": [
    {
     "name": "stdout",
     "output_type": "stream",
     "text": [
      "Decoded sequence 0: QTREEEIEVEIENTDWRAELYEEATEGETIATLKDSEHPEIGQAVEKFMQELLKLVREEVPALREEVEKLEEATRINLKEAEVELEPNEEKGKTRIRIEQGDKEIQGEMFAEEALAGLEPGETVRISMELLEPEG\n",
      "Decoded sequence 1: FRESEEVRSEVEVTEIKAGLFKEITEKETIATLREEEHKEIAKAYKKFLEGYIELIREKVPALKEEIEKLEEAYGIDLAEAEIELEENEEEGETEVTIKQGDKELKGKIEAEEALAFLEEGKEVTLEWELWTELE\n",
      "Decoded sequence 2: QKESEKVKVEIPVTQEIAELYRENTEEKTIATLEDPEHPEIAEAVKEMLEELMKAIREKVPALEPEIKEIEEATGINLRTAEVELEADPESGKTRVTIRQGDKELVGEITAEEALALLKPGENVTLERELWTEEE\n",
      "Decoded sequence 3: VEESEEVVVEQEVSEEKAFLYREATPPETIATLEDEEHPNIAEAVEEMLKVIDELVRAKVPALEEEVTELKEATGIDLTEAEIKLEPEPEEGVTKVMIEQGDKELAGEVTAEEALSLLEPGETVTLEGEGKTPLE\n",
      "Decoded sequence 4: EISEEEIEVEEKVTEERAELYRESIDEETIATHRDSKHEEIAKAVVEAEKEIEKLIRENVPALEEIVEKRIEASGIDMRTARVELKENPEKGKYEILYEQGDKELLGEKTAEEAEKMLEPGSLIEQRAELKEREE\n",
      "Decoded sequence 5: MESEEEVEVLIEIDEERAEYYKSATEEETIATLENPEDKEIAEAVVKFLAPWRELVEEEVPALQEIVEEIEGATGIDLREAEVELKAEPEKGKAEEEVTQGDKRLEREISAEEALALLHPGEELRLRGVLKIEEE\n"
     ]
    }
   ],
   "source": [
    "B = out[\"S\"].shape[0]\n",
    "\n",
    "for i in range(B):\n",
    "    seq = out[\"S\"][i]\n",
    "    seq_str = \"\".join([alphabet[int(s)] for s in seq])\n",
    "    print(f\"Decoded sequence {i}: {seq_str}\")"
   ]
  },
  {
   "cell_type": "code",
   "execution_count": 24,
   "metadata": {},
   "outputs": [
    {
     "data": {
      "text/plain": [
       "tensor(-0., grad_fn=<NegBackward0>)"
      ]
     },
     "execution_count": 24,
     "metadata": {},
     "output_type": "execute_result"
    }
   ],
   "source": [
    "loss"
   ]
  },
  {
   "cell_type": "code",
   "execution_count": 14,
   "metadata": {},
   "outputs": [
    {
     "name": "stdout",
     "output_type": "stream",
     "text": [
      "tensor(124.)\n",
      "tensor(124.)\n"
     ]
    }
   ],
   "source": [
    "for b in batched_reward:\n",
    "    print(b)"
   ]
  },
  {
   "cell_type": "code",
   "execution_count": null,
   "metadata": {},
   "outputs": [],
   "source": []
  }
 ],
 "metadata": {
  "kernelspec": {
   "display_name": "newlatent",
   "language": "python",
   "name": "newlatent"
  },
  "language_info": {
   "codemirror_mode": {
    "name": "ipython",
    "version": 3
   },
   "file_extension": ".py",
   "mimetype": "text/x-python",
   "name": "python",
   "nbconvert_exporter": "python",
   "pygments_lexer": "ipython3",
   "version": "3.11.0"
  }
 },
 "nbformat": 4,
 "nbformat_minor": 2
}
